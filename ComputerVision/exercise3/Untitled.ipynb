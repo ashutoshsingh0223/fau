{
 "cells": [
  {
   "cell_type": "code",
   "execution_count": 1,
   "id": "d3f7c040-59dd-4218-ad68-62aae2b85eff",
   "metadata": {},
   "outputs": [],
   "source": [
    "import cv2\n",
    "import re\n",
    "import os\n",
    "import random\n",
    "import numpy as np\n",
    "\n",
    "\n",
    "logo = cv2.imread(\"/Users/ankitsharma/Downloads/opencv_logo.png\")"
   ]
  },
  {
   "cell_type": "code",
   "execution_count": 4,
   "id": "dcde3af2-566e-4904-bdf1-00e1ea2dc217",
   "metadata": {},
   "outputs": [],
   "source": [
    "cv2.imshow('XX', logo)"
   ]
  },
  {
   "cell_type": "code",
   "execution_count": null,
   "id": "28c70f8c-bad2-4894-88d4-6a3e6c4924a9",
   "metadata": {},
   "outputs": [],
   "source": []
  }
 ],
 "metadata": {
  "kernelspec": {
   "display_name": "Python 3 (ipykernel)",
   "language": "python",
   "name": "python3"
  },
  "language_info": {
   "codemirror_mode": {
    "name": "ipython",
    "version": 3
   },
   "file_extension": ".py",
   "mimetype": "text/x-python",
   "name": "python",
   "nbconvert_exporter": "python",
   "pygments_lexer": "ipython3",
   "version": "3.7.5"
  }
 },
 "nbformat": 4,
 "nbformat_minor": 5
}
